{
 "cells": [
  {
   "cell_type": "code",
   "execution_count": null,
   "metadata": {},
   "outputs": [],
   "source": []
  },
  {
   "cell_type": "code",
   "execution_count": null,
   "metadata": {},
   "outputs": [],
   "source": [
    "import mysql.connector as connection\n",
    "import pandas as pd\n",
    "\n",
    "try:\n",
    "    mydb = connection.connect(\n",
    "        host=\"137.184.231.101\",\n",
    "        database=\"Electric_Vehicle_Population_Data\",\n",
    "        user=\"farzaneh\",\n",
    "        password=\"147258369Fn\"\n",
    "    )\n",
    "\n",
    "\n",
    "    Electric_Vehicle_Population_Data\n",
    "\n",
    "    Electric_Vehicle_Population_Size_History_By_County"
   ]
  }
 ],
 "metadata": {
  "language_info": {
   "name": "python"
  },
  "orig_nbformat": 4
 },
 "nbformat": 4,
 "nbformat_minor": 2
}
