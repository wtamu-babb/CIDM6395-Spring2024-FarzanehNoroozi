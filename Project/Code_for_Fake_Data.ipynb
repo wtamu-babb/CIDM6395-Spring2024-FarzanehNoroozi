{
  "cells": [
    {
      "cell_type": "markdown",
      "metadata": {
        "id": "V4Cozy-CIPz3"
      },
      "source": [
        "**Employee Table**"
      ]
    },
    {
      "cell_type": "code",
      "execution_count": null,
      "metadata": {},
      "outputs": [],
      "source": [
        "!pip install faker\n",
        "import pandas as pd\n",
        "import random\n",
        "from faker import Faker\n",
        "from datetime import datetime, timedelta\n",
        "\n",
        "# Initialize Faker to generate fake data\n",
        "fake = Faker()"
      ]
    },
    {
      "cell_type": "code",
      "execution_count": null,
      "metadata": {
        "id": "L2-Dz-bmF6Cw"
      },
      "outputs": [],
      "source": [
        "# Create an empty DataFrame to store the generated data\n",
        "data = {'EmployeeID': [],\n",
        "        'Name': [],\n",
        "        'HireDate': [],\n",
        "        'Street': [],\n",
        "        'City': [],\n",
        "        'State': []}\n",
        "\n",
        "# Generate fake data for 23 employees\n",
        "for _ in range(23):\n",
        "    # Generate EmployeeID (5-digit number not starting with 0)\n",
        "    employee_id = str(random.randint(10000, 99999))\n",
        "\n",
        "    # Generate Name\n",
        "    name = fake.name()\n",
        "\n",
        "    # Generate HireDate between 1/11/2018 to 11/28/2023\n",
        "    hire_date = fake.date_time_between_dates(datetime(2018, 1, 11), datetime(2023, 11, 28)).strftime('%Y-%m-%d')\n",
        "\n",
        "    # Generate Street\n",
        "    street = fake.street_address()\n",
        "\n",
        "    # City: Seattle\n",
        "    city = \"Seattle\"\n",
        "\n",
        "    # State: WA\n",
        "    state = \"WA\"\n",
        "\n",
        "    # Append generated data to the DataFrame\n",
        "    data['EmployeeID'].append(employee_id)\n",
        "    data['Name'].append(name)\n",
        "    data['HireDate'].append(hire_date)\n",
        "    data['Street'].append(street)\n",
        "    data['City'].append(city)\n",
        "    data['State'].append(state)\n",
        "\n",
        "    # Create a DataFrame from the generated data\n",
        "df = pd.DataFrame(data)"
      ]
    },
    {
      "cell_type": "code",
      "execution_count": null,
      "metadata": {
        "id": "0MkSWyP7Fj2B"
      },
      "outputs": [],
      "source": [
        "# Export the DataFrame to a CSV file\n",
        "df.to_csv('employee.csv', index=False)"
      ]
    },
    {
      "cell_type": "markdown",
      "metadata": {
        "id": "KwQRi5JSIIOS"
      },
      "source": [
        "**Return Table**"
      ]
    },
    {
      "cell_type": "code",
      "execution_count": 7,
      "metadata": {
        "id": "ZsnC4FTpA4jZ"
      },
      "outputs": [],
      "source": [
        "import pandas as pd\n",
        "import random\n",
        "import datetime"
      ]
    },
    {
      "cell_type": "code",
      "execution_count": 8,
      "metadata": {
        "id": "CXg5TJRUJGIg"
      },
      "outputs": [],
      "source": [
        "# Generate data for employees\n",
        "employee_data = {\n",
        "    42559: 'Christopher Herrera',\n",
        "    74800: 'Alicia Davis',\n",
        "    95273: 'Valerie Schultz',\n",
        "    22375: 'Gina James',\n",
        "    36046: 'Katie Bailey',\n",
        "    49252: 'Lauren King',\n",
        "    44054: 'Brian Davis',\n",
        "    16940: 'Casey Hernandez MD',\n",
        "    78679: 'Lance Brown',\n",
        "    63410: 'Alicia Cox',\n",
        "    35142: 'Thomas Smith',\n",
        "    99290: 'Theresa Castillo',\n",
        "    77898: 'James Cameron',\n",
        "    81517: 'Angel Lewis',\n",
        "    20220: 'Nathan Carroll',\n",
        "    92120: 'Jessica Russo',\n",
        "    91446: 'Chelsea Morales',\n",
        "    47498: 'Robert Hudson',\n",
        "    11693: 'Tracy Mann',\n",
        "    50566: 'David Johnson',\n",
        "    99701: 'Gregory Sanders',\n",
        "    25597: 'Ashley Khan',\n",
        "    47301: 'Ashley Heath'\n",
        "}\n",
        "\n",
        "# Function to generate fake data for a single return\n",
        "def generate_fake_return(return_id):\n",
        "    is_receipt_present = random.choice([True, False])\n",
        "    receipt_id = random.randint(10000000, 99999999)\n",
        "    return_date = datetime.date(random.randint(2023, 2024), random.randint(1, 12), random.randint(1, 28))\n",
        "    return_price = round(random.uniform(1.50, 299), 2)\n",
        "    customer_name = \"Ernest Christian\"  # Example name\n",
        "    street = \"123 Main St\"  # Example street\n",
        "    city = \"New York\"  # Example city\n",
        "    state = \"NY\"  # Example state\n",
        "    customer_phone = \"(503)639-9638\"  # Example phone number\n",
        "    credit_card_num = str(random.randint(1000000000000000, 9999999999999999))\n",
        "    credit_card_expire = datetime.date(random.randint(2020, 2028), random.randint(1, 12), random.randint(1, 28))\n",
        "    gift_card_number = \"\"  # Initialize as empty\n",
        "    employee_id = random.choice(list(employee_data.keys()))\n",
        "\n",
        "    # Generate CustomerID\n",
        "    customer_id = str(random.randint(10000, 99999))\n",
        "\n",
        "    # Ensure CustomerID does not start with 0\n",
        "    while customer_id.startswith('0'):\n",
        "        customer_id = str(random.randint(10000, 99999))\n",
        "\n",
        "    # Randomly assign gift card numbers\n",
        "    if random.random() < 0.2:  # Approximately 20% of returns will have a gift card number\n",
        "        gift_card_number = str(random.randint(100000, 999999))\n",
        "\n",
        "        # Remove credit card details for rows with gift card numbers\n",
        "        credit_card_num = None\n",
        "        credit_card_expire = None\n",
        "\n",
        "    # Check if the employee ID is 20220\n",
        "    if employee_id == 20220:\n",
        "        # Replace credit card number and expiration date\n",
        "        credit_card_num = '1958079534214690'\n",
        "        credit_card_expire = datetime.date(2021, 5, 11)\n",
        "\n",
        "    return {\n",
        "        \"ReturnId\": f\"{int(return_id):011d}\",  # Ensure return_id is an integer before formatting\n",
        "        \"IsReceiptPresent\": is_receipt_present,\n",
        "        \"ReceiptId\": receipt_id,\n",
        "        \"ReturnDate\": return_date,\n",
        "        \"ReturnPrice\": return_price,\n",
        "        \"CustomerName\": customer_name,\n",
        "        \"Street\": street,\n",
        "        \"City\": city,\n",
        "        \"State\": state,\n",
        "        \"CustomerPhone\": customer_phone,\n",
        "        \"CreditCardNum\": credit_card_num,\n",
        "        \"CreditCardExpire\": credit_card_expire,\n",
        "        \"GiftCardNumber\": gift_card_number,\n",
        "        \"EmployeeId\": employee_id,\n",
        "        \"CustomerID\": customer_id  # Add CustomerID to the dictionary\n",
        "    }\n",
        "\n",
        "# Generate fake returns for 1304 ReturnIDs\n",
        "fake_returns = []\n",
        "for i in range(1, 1305):\n",
        "    fake_returns.append(generate_fake_return(i))\n",
        "\n",
        "# Convert list of dictionaries to DataFrame\n",
        "df = pd.DataFrame(fake_returns)"
      ]
    },
    {
      "cell_type": "code",
      "execution_count": 9,
      "metadata": {
        "id": "aKGXC7p1JBKd"
      },
      "outputs": [],
      "source": [
        "# Save DataFrame to CSV\n",
        "df.to_csv(\"returns.csv\", index=False)"
      ]
    }
  ],
  "metadata": {
    "colab": {
      "provenance": []
    },
    "kernelspec": {
      "display_name": "Python 3",
      "name": "python3"
    },
    "language_info": {
      "codemirror_mode": {
        "name": "ipython",
        "version": 3
      },
      "file_extension": ".py",
      "mimetype": "text/x-python",
      "name": "python",
      "nbconvert_exporter": "python",
      "pygments_lexer": "ipython3",
      "version": "3.11.4"
    }
  },
  "nbformat": 4,
  "nbformat_minor": 0
}
